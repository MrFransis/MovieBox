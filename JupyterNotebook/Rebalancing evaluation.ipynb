{
 "cells": [
  {
   "cell_type": "markdown",
   "id": "740bc7b4",
   "metadata": {},
   "source": [
    "# Rebalancing evaluation\n",
    "\n",
    "In this notebook have been considered three different techniques to approach the imbalanced dataset:\n",
    "- Oversampling: it consists in duplicating samples in the minority classes by picking them with replacement randomly\n",
    "- Undersampling : it undersample the majority classes by randomly picking samples without replacement\n",
    "- SMOTE: it generates synthetic examples from the existing samples of the minority classes\n",
    "\n",
    "The executions take into account the six algorithms (LinearSVC, MultinomialNB, LogisticRegression, RandomForestClassifier, KNeighborsClassifier, BernulliNB) considered with the best tuned parameters performed in the notebook 'Classifier evaluation' and a step of rebalancing was put into the pipeline. \n",
    "The comparison is done comparing not only the results of the rebalancing methods but also with those occured without rebalancing; therefore these results will be reported at the beginning of each model paragraph.\n",
    "\n",
    "At the end of this notebook is shown a summary table with all the executions' outcomes."
   ]
  },
  {
   "cell_type": "code",
   "execution_count": 3,
   "id": "2641b514",
   "metadata": {},
   "outputs": [],
   "source": [
    "import pandas as pd\n",
    "from sklearn.preprocessing import LabelEncoder\n",
    "\n",
    "import nltk\n",
    "from nltk import word_tokenize\n",
    "from nltk.stem.snowball import SnowballStemmer\n",
    "\n",
    "\n",
    "#Load pre-processed dataset\n",
    "data = pd.read_csv(\"movies/data.csv\", encoding=\"ISO-8859-1\")\n",
    "data = data.dropna(subset = [\"overview\"])\n",
    "data = data.reset_index(drop=True)\n",
    "\n",
    "encoder = LabelEncoder()\n",
    "data['genre_ids'] = encoder.fit_transform(data.genre_ids)\n",
    "\n",
    "X = data['overview']\n",
    "y = data['genre_ids']\n",
    "\n",
    "class LemmaTokenizer:\n",
    "     def __init__(self):\n",
    "            self.stm = SnowballStemmer(\"english\")\n",
    "     def __call__(self, doc):\n",
    "        return [self.stm.stem(t) for t in word_tokenize(doc)]\n",
    "\n",
    "oversampling=[]\n",
    "sm=[]\n",
    "undersampling=[]\n",
    "no_balance=[]"
   ]
  },
  {
   "cell_type": "code",
   "execution_count": 4,
   "id": "0f506d0d",
   "metadata": {},
   "outputs": [],
   "source": [
    "import numpy as np\n",
    "from sklearn.model_selection import StratifiedKFold\n",
    "from imblearn.pipeline import make_pipeline\n",
    "from sklearn.feature_extraction.text import TfidfVectorizer\n",
    "from imblearn.over_sampling import RandomOverSampler\n",
    "from imblearn.over_sampling import SMOTE\n",
    "from imblearn.under_sampling import RandomUnderSampler\n",
    "from sklearn.feature_selection import SelectKBest\n",
    "from sklearn.feature_selection import VarianceThreshold\n",
    "from sklearn.feature_selection import chi2, f_classif\n",
    "from sklearn.model_selection import GridSearchCV\n",
    "\n",
    "n_folds = 10\n",
    "skf = StratifiedKFold(n_folds, shuffle=True)\n",
    "\n",
    "scoring = ['accuracy', 'precision_micro', 'recall_micro', 'f1_micro']\n",
    "\n",
    "# Vectorization parameters\n",
    "# N-gram sizes for tokenizing text.\n",
    "NGRAM_RANGE = [(1,2)]\n",
    "# Minimum document frequency below which a token will be discarded.\n",
    "MIN_DOCUMENT_FREQUENCY =  [2]"
   ]
  },
  {
   "cell_type": "markdown",
   "id": "f176c7f4",
   "metadata": {},
   "source": [
    "## LinearSVC\n",
    "Best estimator selected is that with 20000 features and the chi2 score function with a best score of 0.5967010468382352."
   ]
  },
  {
   "cell_type": "code",
   "execution_count": 3,
   "id": "20ab1cd5",
   "metadata": {},
   "outputs": [],
   "source": [
    "from sklearn.svm import LinearSVC\n",
    "   \n",
    "grid = {\n",
    "    'tfidfvectorizer__min_df': MIN_DOCUMENT_FREQUENCY,\n",
    "    'tfidfvectorizer__ngram_range': NGRAM_RANGE,\n",
    "    'tfidfvectorizer__tokenizer': [LemmaTokenizer()],\n",
    "    'selectkbest__k': [20000],\n",
    "    'selectkbest__score_func': [chi2]  \n",
    "    }\n",
    "no_balance.append(0.5967010468382352)"
   ]
  },
  {
   "cell_type": "code",
   "execution_count": 4,
   "id": "99f20fbb",
   "metadata": {},
   "outputs": [
    {
     "data": {
      "text/plain": [
       "0.5709483157752279"
      ]
     },
     "execution_count": 4,
     "metadata": {},
     "output_type": "execute_result"
    }
   ],
   "source": [
    "ros_pipe = make_pipeline(TfidfVectorizer(), \n",
    "                        RandomOverSampler(random_state=1),\n",
    "                        SelectKBest(),\n",
    "                        LinearSVC())\n",
    "\n",
    "grid_search = GridSearchCV(ros_pipe, param_grid=grid, scoring=scoring, refit=\"f1_micro\", n_jobs=-1, cv=skf)\n",
    "svc_ros_model = grid_search.fit(X=X, y=y)\n",
    "\n",
    "svc_ros_model.best_score_"
   ]
  },
  {
   "cell_type": "code",
   "execution_count": 5,
   "id": "afe91384",
   "metadata": {},
   "outputs": [
    {
     "data": {
      "text/plain": [
       "0.5892214007070729"
      ]
     },
     "execution_count": 5,
     "metadata": {},
     "output_type": "execute_result"
    }
   ],
   "source": [
    "smote_pipe = make_pipeline(TfidfVectorizer(), \n",
    "                        SMOTE(sampling_strategy='minority', k_neighbors=5, random_state=1),\n",
    "                        SelectKBest(),\n",
    "                        LinearSVC())\n",
    "\n",
    "grid_search = GridSearchCV(smote_pipe, param_grid=grid, scoring=scoring, refit=\"f1_micro\", n_jobs=-1, cv=skf)\n",
    "svc_smote_model = grid_search.fit(X=X, y=y)\n",
    "\n",
    "\n",
    "svc_smote_model.best_score_ "
   ]
  },
  {
   "cell_type": "code",
   "execution_count": 6,
   "id": "be59eb85",
   "metadata": {},
   "outputs": [
    {
     "data": {
      "text/plain": [
       "0.51878472741605"
      ]
     },
     "execution_count": 6,
     "metadata": {},
     "output_type": "execute_result"
    }
   ],
   "source": [
    "rus_pipe = make_pipeline(TfidfVectorizer(), \n",
    "                        RandomUnderSampler(random_state=1),\n",
    "                        SelectKBest(),\n",
    "                        LinearSVC())\n",
    "\n",
    "grid_search = GridSearchCV(rus_pipe, param_grid=grid, scoring=scoring, refit=\"f1_micro\", n_jobs=-1, cv=skf)\n",
    "svc_rus_model = grid_search.fit(X=X, y=y)\n",
    "\n",
    "svc_rus_model.best_score_ "
   ]
  },
  {
   "cell_type": "code",
   "execution_count": 7,
   "id": "f74b9af9",
   "metadata": {},
   "outputs": [],
   "source": [
    "oversampling.append(svc_ros_model.best_score_)\n",
    "sm.append(svc_smote_model.best_score_)\n",
    "undersampling.append(svc_rus_model.best_score_)"
   ]
  },
  {
   "cell_type": "markdown",
   "id": "1b5b4c48",
   "metadata": {},
   "source": [
    "## MultinomialNB\n",
    "Best estimator selected is that with 5000 features and the f_classif (default) score function with a best score of 0.4810446123089561."
   ]
  },
  {
   "cell_type": "code",
   "execution_count": 4,
   "id": "8244837e",
   "metadata": {},
   "outputs": [],
   "source": [
    "from sklearn.naive_bayes import MultinomialNB\n",
    "\n",
    "grid = {\n",
    "    'tfidfvectorizer__min_df': MIN_DOCUMENT_FREQUENCY,\n",
    "    'tfidfvectorizer__ngram_range': NGRAM_RANGE,\n",
    "    'tfidfvectorizer__tokenizer': [LemmaTokenizer()],\n",
    "    'selectkbest__k': [5000],\n",
    "    'selectkbest__score_func': [f_classif]  \n",
    "    }\n",
    "\n",
    "no_balance.append(0.4810446123089561)"
   ]
  },
  {
   "cell_type": "code",
   "execution_count": 9,
   "id": "b10869fc",
   "metadata": {},
   "outputs": [
    {
     "data": {
      "text/plain": [
       "0.5581330890156776"
      ]
     },
     "execution_count": 9,
     "metadata": {},
     "output_type": "execute_result"
    }
   ],
   "source": [
    "ros_pipe = make_pipeline(TfidfVectorizer(), \n",
    "                        RandomOverSampler(random_state=1),\n",
    "                        SelectKBest(),\n",
    "                        MultinomialNB())\n",
    "\n",
    "grid_search = GridSearchCV(ros_pipe, param_grid=grid, scoring=scoring, refit=\"f1_micro\", n_jobs=-1, cv=skf)\n",
    "mnb_ros_model = grid_search.fit(X=X, y=y)\n",
    "\n",
    "\n",
    "mnb_ros_model.best_score_"
   ]
  },
  {
   "cell_type": "code",
   "execution_count": 10,
   "id": "6c126158",
   "metadata": {},
   "outputs": [
    {
     "data": {
      "text/plain": [
       "0.4966620604834593"
      ]
     },
     "execution_count": 10,
     "metadata": {},
     "output_type": "execute_result"
    }
   ],
   "source": [
    "smote_pipe = make_pipeline(TfidfVectorizer(), \n",
    "                        SMOTE(sampling_strategy='minority', k_neighbors=5, random_state=1),\n",
    "                        SelectKBest(),\n",
    "                        MultinomialNB())\n",
    "\n",
    "grid_search = GridSearchCV(smote_pipe, param_grid=grid, scoring=scoring, refit=\"f1_micro\", n_jobs=-1, cv=skf)\n",
    "mnb_smote_model = grid_search.fit(X=X, y=y)\n",
    "\n",
    "mnb_smote_model.best_score_"
   ]
  },
  {
   "cell_type": "code",
   "execution_count": 5,
   "id": "cc3cef62",
   "metadata": {},
   "outputs": [
    {
     "name": "stderr",
     "output_type": "stream",
     "text": [
      "e:\\program\\miniconda3\\lib\\site-packages\\sklearn\\feature_selection\\_univariate_selection.py:112: UserWarning: Features [0 0 0 ... 0 0 0] are constant.\n",
      "  warnings.warn(\"Features %s are constant.\" % constant_features_idx, UserWarning)\n",
      "e:\\program\\miniconda3\\lib\\site-packages\\sklearn\\feature_selection\\_univariate_selection.py:113: RuntimeWarning: invalid value encountered in true_divide\n",
      "  f = msb / msw\n"
     ]
    },
    {
     "data": {
      "text/plain": [
       "0.5302845861439363"
      ]
     },
     "execution_count": 5,
     "metadata": {},
     "output_type": "execute_result"
    }
   ],
   "source": [
    "rus_pipe = make_pipeline(TfidfVectorizer(), \n",
    "                        RandomUnderSampler(random_state=1),\n",
    "                        #VarianceThreshold(),\n",
    "                        SelectKBest(),\n",
    "                        MultinomialNB())\n",
    "\n",
    "grid_search = GridSearchCV(rus_pipe, param_grid=grid, scoring=scoring, refit=\"f1_micro\", n_jobs=-1, cv=skf)\n",
    "mnb_rus_model = grid_search.fit(X=X, y=y)\n",
    "\n",
    "mnb_rus_model.best_score_"
   ]
  },
  {
   "cell_type": "code",
   "execution_count": 14,
   "id": "9e3cbb33",
   "metadata": {},
   "outputs": [],
   "source": [
    "oversampling.append(mnb_ros_model.best_score_)\n",
    "sm.append(mnb_smote_model.best_score_)\n",
    "undersampling.append(mnb_rus_model.best_score_)"
   ]
  },
  {
   "cell_type": "markdown",
   "id": "4001670c",
   "metadata": {},
   "source": [
    "## LogisticRegression \n",
    "Best estimator selected is that with all the features, the f_classif (default) score function and the default solver that is 'lbfgs' with a best score of 0.5945327988736221."
   ]
  },
  {
   "cell_type": "code",
   "execution_count": 7,
   "id": "3924bf3b",
   "metadata": {},
   "outputs": [],
   "source": [
    "from sklearn.linear_model import LogisticRegression\n",
    "\n",
    "grid = {\n",
    "    'tfidfvectorizer__min_df': MIN_DOCUMENT_FREQUENCY,\n",
    "    'tfidfvectorizer__ngram_range': NGRAM_RANGE,\n",
    "    'tfidfvectorizer__tokenizer': [LemmaTokenizer()], \n",
    "    }\n",
    "\n",
    "no_balance.append(0.5945327988736221) "
   ]
  },
  {
   "cell_type": "code",
   "execution_count": 29,
   "id": "b5ec1be7",
   "metadata": {},
   "outputs": [
    {
     "data": {
      "text/plain": [
       "0.3603452381800353"
      ]
     },
     "execution_count": 29,
     "metadata": {},
     "output_type": "execute_result"
    }
   ],
   "source": [
    "ros_pipe = make_pipeline(TfidfVectorizer(), \n",
    "                        RandomOverSampler(random_state=1),\n",
    "                        LogisticRegression(max_iter=1000, multi_class='ovr'))\n",
    "\n",
    "grid_search = GridSearchCV(ros_pipe, param_grid=grid, scoring=scoring, refit=\"f1_micro\", n_jobs=-1, cv=skf)\n",
    "lr_ros_model = grid_search.fit(X=X, y=y)\n",
    "\n",
    "lr_ros_model.best_score_"
   ]
  },
  {
   "cell_type": "code",
   "execution_count": 31,
   "id": "256ded14",
   "metadata": {},
   "outputs": [
    {
     "data": {
      "text/plain": [
       "0.3780819580077545"
      ]
     },
     "execution_count": 31,
     "metadata": {},
     "output_type": "execute_result"
    }
   ],
   "source": [
    "smote_pipe = make_pipeline(TfidfVectorizer(), \n",
    "                        SMOTE(sampling_strategy='minority', k_neighbors=5, random_state=1),\n",
    "                        LogisticRegression(max_iter=1000, multi_class='ovr'))\n",
    "\n",
    "grid_search = GridSearchCV(smote_pipe, param_grid=grid, scoring=scoring, refit=\"f1_micro\", n_jobs=-1, cv=skf)\n",
    "lr_smote_model = grid_search.fit(X=X, y=y)\n",
    "\n",
    "lr_smote_model.best_score_"
   ]
  },
  {
   "cell_type": "code",
   "execution_count": 8,
   "id": "6d768dc5",
   "metadata": {},
   "outputs": [
    {
     "data": {
      "text/plain": [
       "0.5429295681347095"
      ]
     },
     "execution_count": 8,
     "metadata": {},
     "output_type": "execute_result"
    }
   ],
   "source": [
    "rus_pipe = make_pipeline(TfidfVectorizer(), \n",
    "                        RandomUnderSampler(random_state=1),\n",
    "                        LogisticRegression(max_iter=1000, multi_class='ovr'))\n",
    "\n",
    "grid_search = GridSearchCV(rus_pipe, param_grid=grid, scoring=scoring, refit=\"f1_micro\", n_jobs=-1, cv=skf)\n",
    "lr_rus_model = grid_search.fit(X=X, y=y)\n",
    "\n",
    "lr_rus_model.best_score_ "
   ]
  },
  {
   "cell_type": "code",
   "execution_count": 34,
   "id": "d7b0219d",
   "metadata": {},
   "outputs": [],
   "source": [
    "oversampling.append(lr_ros_model.best_score_)\n",
    "sm.append(lr_smote_model.best_score_)\n",
    "undersampling.append(lr_ros_model.best_score_)"
   ]
  },
  {
   "cell_type": "markdown",
   "id": "b709d18e",
   "metadata": {},
   "source": [
    "## RandomForest\n",
    "Best estimator selected is that with 500 features, chi2 score function and a max tree depth of 8 with a best score of 0.38202870316948145."
   ]
  },
  {
   "cell_type": "code",
   "execution_count": 42,
   "id": "500be186",
   "metadata": {},
   "outputs": [],
   "source": [
    "from sklearn.ensemble import RandomForestClassifier\n",
    "\n",
    "grid = {\n",
    "    'tfidfvectorizer__min_df': MIN_DOCUMENT_FREQUENCY,\n",
    "    'tfidfvectorizer__ngram_range': NGRAM_RANGE,\n",
    "    'tfidfvectorizer__tokenizer': [LemmaTokenizer()],\n",
    "    'selectkbest__k': [500],\n",
    "    'selectkbest__score_func': [chi2],\n",
    "    'randomforestclassifier__max_depth': [8],\n",
    "    'randomforestclassifier__n_estimators': [100]\n",
    "    }\n",
    "\n",
    "no_balance.append(0.38202870316948145)"
   ]
  },
  {
   "cell_type": "code",
   "execution_count": 19,
   "id": "2dd2adc9",
   "metadata": {},
   "outputs": [
    {
     "data": {
      "text/plain": [
       "0.40115503605406805"
      ]
     },
     "execution_count": 19,
     "metadata": {},
     "output_type": "execute_result"
    }
   ],
   "source": [
    "ros_pipe = make_pipeline(TfidfVectorizer(), \n",
    "                        RandomOverSampler(random_state=1),\n",
    "                        SelectKBest(),\n",
    "                        RandomForestClassifier())\n",
    "\n",
    "grid_search = GridSearchCV(ros_pipe, param_grid=grid, scoring=scoring, refit=\"f1_micro\", n_jobs=-1, cv=skf)\n",
    "rf_ros_model = grid_search.fit(X=X, y=y)\n",
    "\n",
    "rf_ros_model.best_score_"
   ]
  },
  {
   "cell_type": "code",
   "execution_count": 20,
   "id": "ab36223c",
   "metadata": {},
   "outputs": [
    {
     "data": {
      "text/plain": [
       "0.3731849263841699"
      ]
     },
     "execution_count": 20,
     "metadata": {},
     "output_type": "execute_result"
    }
   ],
   "source": [
    "smote_pipe = make_pipeline(TfidfVectorizer(), \n",
    "                        SMOTE(sampling_strategy='minority', k_neighbors=5, random_state=1),\n",
    "                        SelectKBest(),\n",
    "                        RandomForestClassifier())\n",
    "\n",
    "grid_search = GridSearchCV(smote_pipe, param_grid=grid, scoring=scoring, refit=\"f1_micro\", n_jobs=-1, cv=skf)\n",
    "rf_smote_model = grid_search.fit(X=X, y=y)\n",
    "\n",
    "rf_smote_model.best_score_"
   ]
  },
  {
   "cell_type": "code",
   "execution_count": 21,
   "id": "64138303",
   "metadata": {},
   "outputs": [
    {
     "data": {
      "text/plain": [
       "0.3994731143734284"
      ]
     },
     "execution_count": 21,
     "metadata": {},
     "output_type": "execute_result"
    }
   ],
   "source": [
    "rus_pipe = make_pipeline(TfidfVectorizer(), \n",
    "                        RandomUnderSampler(random_state=1),\n",
    "                        SelectKBest(),\n",
    "                        RandomForestClassifier())\n",
    "\n",
    "grid_search = GridSearchCV(rus_pipe, param_grid=grid, scoring=scoring, refit=\"f1_micro\", n_jobs=-1, cv=skf)\n",
    "rf_rus_model = grid_search.fit(X=X, y=y)\n",
    "\n",
    "rf_rus_model.best_score_"
   ]
  },
  {
   "cell_type": "code",
   "execution_count": 43,
   "id": "92abb083",
   "metadata": {},
   "outputs": [],
   "source": [
    "oversampling.append(rf_ros_model.best_score_)\n",
    "sm.append(rf_smote_model.best_score_)\n",
    "undersampling.append(rf_rus_model.best_score_)"
   ]
  },
  {
   "cell_type": "markdown",
   "id": "ce0e37b5",
   "metadata": {},
   "source": [
    "## KNeighborsClassifier\n",
    "Best estimator selected is that with all the features and the default f_classif score function with a best score of 0.447885376080613."
   ]
  },
  {
   "cell_type": "code",
   "execution_count": 5,
   "id": "4989986c",
   "metadata": {},
   "outputs": [],
   "source": [
    "from sklearn.neighbors import KNeighborsClassifier\n",
    "\n",
    "grid = {\n",
    "    'tfidfvectorizer__min_df': MIN_DOCUMENT_FREQUENCY,\n",
    "    'tfidfvectorizer__ngram_range': NGRAM_RANGE,\n",
    "    'tfidfvectorizer__tokenizer': [LemmaTokenizer()]\n",
    "}\n",
    "\n",
    "no_balance.append(0.447885376080613)"
   ]
  },
  {
   "cell_type": "code",
   "execution_count": 6,
   "id": "d2fb15f9",
   "metadata": {},
   "outputs": [
    {
     "data": {
      "text/plain": [
       "0.34884509453360024"
      ]
     },
     "execution_count": 6,
     "metadata": {},
     "output_type": "execute_result"
    }
   ],
   "source": [
    "ros_pipe = make_pipeline(TfidfVectorizer(), \n",
    "                        RandomOverSampler(random_state=1),\n",
    "                        KNeighborsClassifier())\n",
    "\n",
    "grid_search = GridSearchCV(ros_pipe, param_grid=grid, scoring=scoring, refit=\"f1_micro\", n_jobs=-1, cv=skf)\n",
    "knc_ros_model = grid_search.fit(X=X, y=y)\n",
    "\n",
    "knc_ros_model.best_score_"
   ]
  },
  {
   "cell_type": "code",
   "execution_count": 7,
   "id": "7d731128",
   "metadata": {},
   "outputs": [
    {
     "data": {
      "text/plain": [
       "0.347164003865395"
      ]
     },
     "execution_count": 7,
     "metadata": {},
     "output_type": "execute_result"
    }
   ],
   "source": [
    "smote_pipe = make_pipeline(TfidfVectorizer(), \n",
    "                        SMOTE(sampling_strategy='minority', k_neighbors=5, random_state=1),\n",
    "                        KNeighborsClassifier())\n",
    "\n",
    "grid_search = GridSearchCV(ros_pipe, param_grid=grid, scoring=scoring, refit=\"f1_micro\", n_jobs=-1, cv=skf)\n",
    "knc_smote_model = grid_search.fit(X=X, y=y)\n",
    "\n",
    "knc_smote_model.best_score_"
   ]
  },
  {
   "cell_type": "code",
   "execution_count": 8,
   "id": "6d8610b1",
   "metadata": {},
   "outputs": [
    {
     "data": {
      "text/plain": [
       "0.3454345185944968"
      ]
     },
     "execution_count": 8,
     "metadata": {},
     "output_type": "execute_result"
    }
   ],
   "source": [
    "rus_pipe = make_pipeline(TfidfVectorizer(), \n",
    "                        RandomUnderSampler(random_state=1),\n",
    "                        KNeighborsClassifier())\n",
    "\n",
    "grid_search = GridSearchCV(ros_pipe, param_grid=grid, scoring=scoring, refit=\"f1_micro\", n_jobs=-1, cv=skf)\n",
    "knc_rus_model = grid_search.fit(X=X, y=y)\n",
    "\n",
    "knc_rus_model.best_score_"
   ]
  },
  {
   "cell_type": "code",
   "execution_count": 9,
   "id": "a70ca66d",
   "metadata": {},
   "outputs": [],
   "source": [
    "oversampling.append(knc_ros_model.best_score_)\n",
    "sm.append(knc_smote_model.best_score_)\n",
    "undersampling.append(knc_rus_model.best_score_)"
   ]
  },
  {
   "cell_type": "markdown",
   "id": "9f55c250",
   "metadata": {},
   "source": [
    "## BernoulliNB Classifier\n",
    "Best estimator selected is that with 10000 features and the f_classif(default) score function with a best score of 0.5815959237652936."
   ]
  },
  {
   "cell_type": "code",
   "execution_count": 58,
   "id": "439f8672",
   "metadata": {},
   "outputs": [],
   "source": [
    "from sklearn.naive_bayes import BernoulliNB\n",
    "\n",
    "grid = {\n",
    "    'tfidfvectorizer__min_df': MIN_DOCUMENT_FREQUENCY,\n",
    "    'tfidfvectorizer__ngram_range': NGRAM_RANGE,\n",
    "    'tfidfvectorizer__tokenizer': [LemmaTokenizer()],\n",
    "    'selectkbest__k': [10000]\n",
    "    }\n",
    "\n",
    "no_balance.append(0.5815959237652936)"
   ]
  },
  {
   "cell_type": "code",
   "execution_count": 59,
   "id": "64a68a6a",
   "metadata": {},
   "outputs": [
    {
     "data": {
      "text/plain": [
       "0.5771124514154516"
      ]
     },
     "execution_count": 59,
     "metadata": {},
     "output_type": "execute_result"
    }
   ],
   "source": [
    "ros_pipe = make_pipeline(TfidfVectorizer(), \n",
    "                        RandomOverSampler(random_state=1),\n",
    "                        SelectKBest(),\n",
    "                        BernoulliNB())\n",
    "\n",
    "grid_search = GridSearchCV(ros_pipe, param_grid=grid, scoring=scoring, refit=\"f1_micro\", n_jobs=-1, cv=skf)\n",
    "bnc_ros_model = grid_search.fit(X=X, y=y)\n",
    "\n",
    "bnc_ros_model.best_score_"
   ]
  },
  {
   "cell_type": "code",
   "execution_count": 60,
   "id": "d00f6345",
   "metadata": {},
   "outputs": [
    {
     "data": {
      "text/plain": [
       "0.5782579011475095"
      ]
     },
     "execution_count": 60,
     "metadata": {},
     "output_type": "execute_result"
    }
   ],
   "source": [
    "smote_pipe = make_pipeline(TfidfVectorizer(), \n",
    "                        SMOTE(sampling_strategy='minority', k_neighbors=5, random_state=1),\n",
    "                        SelectKBest(),\n",
    "                        BernoulliNB())\n",
    "\n",
    "grid_search = GridSearchCV(ros_pipe, param_grid=grid, scoring=scoring, refit=\"f1_micro\", n_jobs=-1, cv=skf)\n",
    "bnc_smote_model = grid_search.fit(X=X, y=y)\n",
    "\n",
    "bnc_smote_model.best_score_"
   ]
  },
  {
   "cell_type": "code",
   "execution_count": 61,
   "id": "d563b8eb",
   "metadata": {},
   "outputs": [
    {
     "data": {
      "text/plain": [
       "0.5789882482970181"
      ]
     },
     "execution_count": 61,
     "metadata": {},
     "output_type": "execute_result"
    }
   ],
   "source": [
    "rus_pipe = make_pipeline(TfidfVectorizer(), \n",
    "                        RandomUnderSampler(random_state=1),\n",
    "                        SelectKBest(),\n",
    "                        BernoulliNB())\n",
    "\n",
    "grid_search = GridSearchCV(ros_pipe, param_grid=grid, scoring=scoring, refit=\"f1_micro\", n_jobs=-1, cv=skf)\n",
    "bnc_rus_model = grid_search.fit(X=X, y=y)\n",
    "\n",
    "bnc_rus_model.best_score_"
   ]
  },
  {
   "cell_type": "code",
   "execution_count": 62,
   "id": "a04fb2bf",
   "metadata": {},
   "outputs": [],
   "source": [
    "oversampling.append(bnc_ros_model.best_score_)\n",
    "sm.append(bnc_smote_model.best_score_)\n",
    "undersampling.append(bnc_rus_model.best_score_)"
   ]
  },
  {
   "cell_type": "code",
   "execution_count": 63,
   "id": "4e55ca9a",
   "metadata": {},
   "outputs": [
    {
     "data": {
      "text/html": [
       "<div>\n",
       "<style scoped>\n",
       "    .dataframe tbody tr th:only-of-type {\n",
       "        vertical-align: middle;\n",
       "    }\n",
       "\n",
       "    .dataframe tbody tr th {\n",
       "        vertical-align: top;\n",
       "    }\n",
       "\n",
       "    .dataframe thead th {\n",
       "        text-align: right;\n",
       "    }\n",
       "</style>\n",
       "<table border=\"1\" class=\"dataframe\">\n",
       "  <thead>\n",
       "    <tr style=\"text-align: right;\">\n",
       "      <th></th>\n",
       "      <th>Oversampling</th>\n",
       "      <th>Smote</th>\n",
       "      <th>Undersampling</th>\n",
       "      <th>No balance</th>\n",
       "    </tr>\n",
       "  </thead>\n",
       "  <tbody>\n",
       "    <tr>\n",
       "      <th>LinearSVC</th>\n",
       "      <td>0.573336</td>\n",
       "      <td>0.591390</td>\n",
       "      <td>0.523560</td>\n",
       "      <td>0.596701</td>\n",
       "    </tr>\n",
       "    <tr>\n",
       "      <th>MultinomialNB</th>\n",
       "      <td>0.559156</td>\n",
       "      <td>0.496126</td>\n",
       "      <td>0.530261</td>\n",
       "      <td>0.481045</td>\n",
       "    </tr>\n",
       "    <tr>\n",
       "      <th>LogisticRegression</th>\n",
       "      <td>0.360345</td>\n",
       "      <td>0.378082</td>\n",
       "      <td>0.360345</td>\n",
       "      <td>0.594533</td>\n",
       "    </tr>\n",
       "    <tr>\n",
       "      <th>RandomForest</th>\n",
       "      <td>0.401155</td>\n",
       "      <td>0.373185</td>\n",
       "      <td>0.399473</td>\n",
       "      <td>0.382029</td>\n",
       "    </tr>\n",
       "    <tr>\n",
       "      <th>KNeibghorsC</th>\n",
       "      <td>NaN</td>\n",
       "      <td>NaN</td>\n",
       "      <td>NaN</td>\n",
       "      <td>0.447885</td>\n",
       "    </tr>\n",
       "    <tr>\n",
       "      <th>BernoulliNC</th>\n",
       "      <td>0.577112</td>\n",
       "      <td>0.578258</td>\n",
       "      <td>0.578988</td>\n",
       "      <td>0.581596</td>\n",
       "    </tr>\n",
       "  </tbody>\n",
       "</table>\n",
       "</div>"
      ],
      "text/plain": [
       "                    Oversampling     Smote  Undersampling  No balance\n",
       "LinearSVC               0.573336  0.591390       0.523560    0.596701\n",
       "MultinomialNB           0.559156  0.496126       0.530261    0.481045\n",
       "LogisticRegression      0.360345  0.378082       0.360345    0.594533\n",
       "RandomForest            0.401155  0.373185       0.399473    0.382029\n",
       "KNeibghorsC                  NaN       NaN            NaN    0.447885\n",
       "BernoulliNC             0.577112  0.578258       0.578988    0.581596"
      ]
     },
     "execution_count": 63,
     "metadata": {},
     "output_type": "execute_result"
    }
   ],
   "source": [
    "methods=['Oversampling','Smote', 'Undersampling', 'No balance']\n",
    "models=['LinearSVC',  'MultinomialNB', 'LogisticRegression', 'RandomForest', 'KNeighbors', 'BernoulliNB']\n",
    "d = {'Oversampling': oversampling, 'SMOTE': sm, 'Undersampling': undersampling, 'No balance': no_balance}\n",
    "df = pd.DataFrame(d, columns=methods, index=models)\n",
    "\n",
    "df"
   ]
  },
  {
   "cell_type": "code",
   "execution_count": null,
   "id": "d0526ce1",
   "metadata": {},
   "outputs": [],
   "source": []
  }
 ],
 "metadata": {
  "kernelspec": {
   "display_name": "Python 3 (ipykernel)",
   "language": "python",
   "name": "python3"
  },
  "language_info": {
   "codemirror_mode": {
    "name": "ipython",
    "version": 3
   },
   "file_extension": ".py",
   "mimetype": "text/x-python",
   "name": "python",
   "nbconvert_exporter": "python",
   "pygments_lexer": "ipython3",
   "version": "3.8.3"
  }
 },
 "nbformat": 4,
 "nbformat_minor": 5
}
