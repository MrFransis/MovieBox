{
 "cells": [
  {
   "cell_type": "markdown",
   "id": "740bc7b4",
   "metadata": {},
   "source": [
    "# Rebalancing evaluation\n",
    "\n",
    "In this notebook have been considered three different techniques to approach the imbalanced dataset:\n",
    "- Oversampling: it consists in duplicating samples in the minority classes by picking them with replacement randomly\n",
    "- Undersampling : it undersample the majority classes by randomly picking samples without replacement\n",
    "- SMOTE: it generates synthetic examples from the existing samples of the minority classes\n",
    "\n",
    "The executions take into account the six algorithms (LinearSVC, MultinomialNB, LogisticRegression, RandomForestClassifier, KNeighborsClassifier, BernulliNB) considered with the best tuned parameters performed in the notebook 'Classifier evaluation' and a step of rebalancing was put into the pipeline. \n",
    "The comparison is done comparing not only the results of the rebalancing methods but also with those occured without rebalancing; therefore these results will be reported at the beginning of each model paragraph.\n",
    "\n",
    "At the end of this notebook is shown a summary table with all the executions' outcomes."
   ]
  },
  {
   "cell_type": "code",
   "execution_count": 42,
   "id": "2641b514",
   "metadata": {},
   "outputs": [],
   "source": [
    "import pandas as pd\n",
    "from sklearn.preprocessing import LabelEncoder\n",
    "\n",
    "import nltk\n",
    "from nltk import word_tokenize\n",
    "from nltk.stem.snowball import SnowballStemmer\n",
    "\n",
    "\n",
    "#Load pre-processed dataset\n",
    "data = pd.read_csv(\"movies/data.csv\", encoding=\"ISO-8859-1\")\n",
    "data = data.dropna(subset = [\"overview\"])\n",
    "data = data.reset_index(drop=True)\n",
    "\n",
    "encoder = LabelEncoder()\n",
    "data['genre_ids'] = encoder.fit_transform(data.genre_ids)\n",
    "\n",
    "X = data['overview']\n",
    "y = data['genre_ids']\n",
    "\n",
    "class LemmaTokenizer:\n",
    "     def __init__(self):\n",
    "            self.stm = SnowballStemmer(\"english\")\n",
    "     def __call__(self, doc):\n",
    "        return [self.stm.stem(t) for t in word_tokenize(doc)]\n",
    "\n",
    "oversampling=[]\n",
    "sm=[]\n",
    "undersampling=[]\n",
    "no_balance=[]"
   ]
  },
  {
   "cell_type": "code",
   "execution_count": 43,
   "id": "0f506d0d",
   "metadata": {},
   "outputs": [],
   "source": [
    "import numpy as np\n",
    "from sklearn.model_selection import StratifiedKFold\n",
    "from imblearn.pipeline import make_pipeline\n",
    "from sklearn.feature_extraction.text import TfidfVectorizer\n",
    "from imblearn.over_sampling import RandomOverSampler\n",
    "from imblearn.over_sampling import SMOTE\n",
    "from imblearn.under_sampling import RandomUnderSampler\n",
    "from sklearn.feature_selection import SelectKBest\n",
    "from sklearn.feature_selection import VarianceThreshold\n",
    "from sklearn.feature_selection import chi2, f_classif\n",
    "from sklearn.model_selection import GridSearchCV\n",
    "\n",
    "n_folds = 10\n",
    "skf = StratifiedKFold(n_folds, shuffle=True)\n",
    "\n",
    "scoring = ['accuracy', 'precision_micro', 'recall_micro', 'f1_micro']\n",
    "\n",
    "# Vectorization parameters\n",
    "# N-gram sizes for tokenizing text.\n",
    "NGRAM_RANGE = [(1,2)]\n",
    "# Minimum document frequency below which a token will be discarded.\n",
    "MIN_DOCUMENT_FREQUENCY =  [2]"
   ]
  },
  {
   "cell_type": "markdown",
   "id": "f176c7f4",
   "metadata": {},
   "source": [
    "## LinearSVC\n",
    "Best estimator selected is that with 20000 features and the chi2 score function with a best score of 0.5951419013089634."
   ]
  },
  {
   "cell_type": "code",
   "execution_count": 44,
   "id": "20ab1cd5",
   "metadata": {},
   "outputs": [],
   "source": [
    "from sklearn.svm import LinearSVC\n",
    "   \n",
    "grid = {\n",
    "    'tfidfvectorizer__min_df': MIN_DOCUMENT_FREQUENCY,\n",
    "    'tfidfvectorizer__ngram_range': NGRAM_RANGE,\n",
    "    'tfidfvectorizer__tokenizer': [LemmaTokenizer()],\n",
    "    'selectkbest__k': [20000],\n",
    "    'selectkbest__score_func': [chi2]  \n",
    "    }\n",
    "no_balance.append(0.5951419013089634)"
   ]
  },
  {
   "cell_type": "code",
   "execution_count": 45,
   "id": "99f20fbb",
   "metadata": {},
   "outputs": [
    {
     "data": {
      "text/plain": [
       "0.5707534492951828"
      ]
     },
     "execution_count": 45,
     "metadata": {},
     "output_type": "execute_result"
    }
   ],
   "source": [
    "ros_pipe = make_pipeline(TfidfVectorizer(), \n",
    "                        RandomOverSampler(random_state=1),\n",
    "                        SelectKBest(),\n",
    "                        LinearSVC())\n",
    "\n",
    "grid_search = GridSearchCV(ros_pipe, param_grid=grid, scoring=scoring, refit=\"f1_micro\", n_jobs=-1, cv=skf)\n",
    "svc_ros_model = grid_search.fit(X=X, y=y)\n",
    "\n",
    "svc_ros_model.best_score_"
   ]
  },
  {
   "cell_type": "code",
   "execution_count": 46,
   "id": "afe91384",
   "metadata": {},
   "outputs": [
    {
     "data": {
      "text/plain": [
       "0.5898055252829597"
      ]
     },
     "execution_count": 46,
     "metadata": {},
     "output_type": "execute_result"
    }
   ],
   "source": [
    "smote_pipe = make_pipeline(TfidfVectorizer(), \n",
    "                        SMOTE(sampling_strategy='minority', k_neighbors=5, random_state=1),\n",
    "                        SelectKBest(),\n",
    "                        LinearSVC())\n",
    "\n",
    "grid_search = GridSearchCV(smote_pipe, param_grid=grid, scoring=scoring, refit=\"f1_micro\", n_jobs=-1, cv=skf)\n",
    "svc_smote_model = grid_search.fit(X=X, y=y)\n",
    "\n",
    "\n",
    "svc_smote_model.best_score_ "
   ]
  },
  {
   "cell_type": "code",
   "execution_count": 47,
   "id": "be59eb85",
   "metadata": {},
   "outputs": [
    {
     "data": {
      "text/plain": [
       "0.5213673063088089"
      ]
     },
     "execution_count": 47,
     "metadata": {},
     "output_type": "execute_result"
    }
   ],
   "source": [
    "rus_pipe = make_pipeline(TfidfVectorizer(), \n",
    "                        RandomUnderSampler(random_state=1),\n",
    "                        SelectKBest(),\n",
    "                        LinearSVC())\n",
    "\n",
    "grid_search = GridSearchCV(rus_pipe, param_grid=grid, scoring=scoring, refit=\"f1_micro\", n_jobs=-1, cv=skf)\n",
    "svc_rus_model = grid_search.fit(X=X, y=y)\n",
    "\n",
    "svc_rus_model.best_score_ "
   ]
  },
  {
   "cell_type": "code",
   "execution_count": 48,
   "id": "f74b9af9",
   "metadata": {},
   "outputs": [],
   "source": [
    "oversampling.append(svc_ros_model.best_score_)\n",
    "sm.append(svc_smote_model.best_score_)\n",
    "undersampling.append(svc_rus_model.best_score_)"
   ]
  },
  {
   "cell_type": "markdown",
   "id": "1b5b4c48",
   "metadata": {},
   "source": [
    "## MultinomialNB\n",
    "Best estimator selected is that with 5000 features and the f_classif (default) score function with a best score of 0.4806064431955515."
   ]
  },
  {
   "cell_type": "code",
   "execution_count": 49,
   "id": "8244837e",
   "metadata": {},
   "outputs": [],
   "source": [
    "from sklearn.naive_bayes import MultinomialNB\n",
    "\n",
    "grid = {\n",
    "    'tfidfvectorizer__min_df': MIN_DOCUMENT_FREQUENCY,\n",
    "    'tfidfvectorizer__ngram_range': NGRAM_RANGE,\n",
    "    'tfidfvectorizer__tokenizer': [LemmaTokenizer()],\n",
    "    'selectkbest__k': [5000],\n",
    "    'selectkbest__score_func': [f_classif]  \n",
    "    }\n",
    "\n",
    "no_balance.append(0.4806064431955515)"
   ]
  },
  {
   "cell_type": "code",
   "execution_count": 50,
   "id": "b10869fc",
   "metadata": {},
   "outputs": [
    {
     "data": {
      "text/plain": [
       "0.5596187611741493"
      ]
     },
     "execution_count": 50,
     "metadata": {},
     "output_type": "execute_result"
    }
   ],
   "source": [
    "ros_pipe = make_pipeline(TfidfVectorizer(), \n",
    "                        RandomOverSampler(random_state=1),\n",
    "                        SelectKBest(),\n",
    "                        MultinomialNB())\n",
    "\n",
    "grid_search = GridSearchCV(ros_pipe, param_grid=grid, scoring=scoring, refit=\"f1_micro\", n_jobs=-1, cv=skf)\n",
    "mnb_ros_model = grid_search.fit(X=X, y=y)\n",
    "\n",
    "\n",
    "mnb_ros_model.best_score_"
   ]
  },
  {
   "cell_type": "code",
   "execution_count": 51,
   "id": "6c126158",
   "metadata": {},
   "outputs": [
    {
     "data": {
      "text/plain": [
       "0.4963942311116809"
      ]
     },
     "execution_count": 51,
     "metadata": {},
     "output_type": "execute_result"
    }
   ],
   "source": [
    "smote_pipe = make_pipeline(TfidfVectorizer(), \n",
    "                        SMOTE(sampling_strategy='minority', k_neighbors=5, random_state=1),\n",
    "                        SelectKBest(),\n",
    "                        MultinomialNB())\n",
    "\n",
    "grid_search = GridSearchCV(smote_pipe, param_grid=grid, scoring=scoring, refit=\"f1_micro\", n_jobs=-1, cv=skf)\n",
    "mnb_smote_model = grid_search.fit(X=X, y=y)\n",
    "\n",
    "mnb_smote_model.best_score_"
   ]
  },
  {
   "cell_type": "code",
   "execution_count": 52,
   "id": "cc3cef62",
   "metadata": {},
   "outputs": [
    {
     "data": {
      "text/plain": [
       "0.5277507164514343"
      ]
     },
     "execution_count": 52,
     "metadata": {},
     "output_type": "execute_result"
    }
   ],
   "source": [
    "rus_pipe = make_pipeline(TfidfVectorizer(), \n",
    "                        RandomUnderSampler(random_state=1),\n",
    "                        VarianceThreshold(),\n",
    "                        SelectKBest(),\n",
    "                        MultinomialNB())\n",
    "\n",
    "grid_search = GridSearchCV(rus_pipe, param_grid=grid, scoring=scoring, refit=\"f1_micro\", n_jobs=-1, cv=skf)\n",
    "mnb_rus_model = grid_search.fit(X=X, y=y)\n",
    "\n",
    "mnb_rus_model.best_score_"
   ]
  },
  {
   "cell_type": "code",
   "execution_count": 53,
   "id": "9e3cbb33",
   "metadata": {},
   "outputs": [],
   "source": [
    "oversampling.append(mnb_ros_model.best_score_)\n",
    "sm.append(mnb_smote_model.best_score_)\n",
    "undersampling.append(mnb_rus_model.best_score_)"
   ]
  },
  {
   "cell_type": "markdown",
   "id": "4001670c",
   "metadata": {},
   "source": [
    "## LogisticRegression \n",
    "Best estimator selected is that with all the features, the f_classif (default) score function and the default solver that is 'lbfgs' with a best score of 0.5924376562600167."
   ]
  },
  {
   "cell_type": "code",
   "execution_count": 54,
   "id": "3924bf3b",
   "metadata": {},
   "outputs": [],
   "source": [
    "from sklearn.linear_model import LogisticRegression\n",
    "\n",
    "grid = {\n",
    "    'tfidfvectorizer__min_df': MIN_DOCUMENT_FREQUENCY,\n",
    "    'tfidfvectorizer__ngram_range': NGRAM_RANGE,\n",
    "    'tfidfvectorizer__tokenizer': [LemmaTokenizer()], \n",
    "    }\n",
    "\n",
    "no_balance.append(0.5924376562600167) "
   ]
  },
  {
   "cell_type": "code",
   "execution_count": 55,
   "id": "b5ec1be7",
   "metadata": {},
   "outputs": [
    {
     "data": {
      "text/plain": [
       "0.5950441861182935"
      ]
     },
     "execution_count": 55,
     "metadata": {},
     "output_type": "execute_result"
    }
   ],
   "source": [
    "ros_pipe = make_pipeline(TfidfVectorizer(), \n",
    "                        RandomOverSampler(random_state=1),\n",
    "                        LogisticRegression(max_iter=1000, multi_class='ovr'))\n",
    "\n",
    "grid_search = GridSearchCV(ros_pipe, param_grid=grid, scoring=scoring, refit=\"f1_micro\", n_jobs=-1, cv=skf)\n",
    "lr_ros_model = grid_search.fit(X=X, y=y)\n",
    "\n",
    "lr_ros_model.best_score_"
   ]
  },
  {
   "cell_type": "code",
   "execution_count": 56,
   "id": "256ded14",
   "metadata": {},
   "outputs": [
    {
     "data": {
      "text/plain": [
       "0.5924616309687468"
      ]
     },
     "execution_count": 56,
     "metadata": {},
     "output_type": "execute_result"
    }
   ],
   "source": [
    "smote_pipe = make_pipeline(TfidfVectorizer(), \n",
    "                        SMOTE(sampling_strategy='minority', k_neighbors=5, random_state=1),\n",
    "                        LogisticRegression(max_iter=1000, multi_class='ovr'))\n",
    "\n",
    "grid_search = GridSearchCV(smote_pipe, param_grid=grid, scoring=scoring, refit=\"f1_micro\", n_jobs=-1, cv=skf)\n",
    "lr_smote_model = grid_search.fit(X=X, y=y)\n",
    "\n",
    "lr_smote_model.best_score_"
   ]
  },
  {
   "cell_type": "code",
   "execution_count": 57,
   "id": "6d768dc5",
   "metadata": {},
   "outputs": [
    {
     "data": {
      "text/plain": [
       "0.542880324712173"
      ]
     },
     "execution_count": 57,
     "metadata": {},
     "output_type": "execute_result"
    }
   ],
   "source": [
    "rus_pipe = make_pipeline(TfidfVectorizer(), \n",
    "                        RandomUnderSampler(random_state=1),\n",
    "                        LogisticRegression(max_iter=1000, multi_class='ovr'))\n",
    "\n",
    "grid_search = GridSearchCV(rus_pipe, param_grid=grid, scoring=scoring, refit=\"f1_micro\", n_jobs=-1, cv=skf)\n",
    "lr_rus_model = grid_search.fit(X=X, y=y)\n",
    "\n",
    "lr_rus_model.best_score_ "
   ]
  },
  {
   "cell_type": "code",
   "execution_count": 58,
   "id": "d7b0219d",
   "metadata": {},
   "outputs": [],
   "source": [
    "oversampling.append(lr_ros_model.best_score_)\n",
    "sm.append(lr_smote_model.best_score_)\n",
    "undersampling.append(lr_ros_model.best_score_)"
   ]
  },
  {
   "cell_type": "markdown",
   "id": "b709d18e",
   "metadata": {},
   "source": [
    "## RandomForest\n",
    "Best estimator selected is that with 500 features, chi2 score function and a max tree depth of 8 with a best score of 0.3825407433524941."
   ]
  },
  {
   "cell_type": "code",
   "execution_count": 59,
   "id": "500be186",
   "metadata": {},
   "outputs": [],
   "source": [
    "from sklearn.ensemble import RandomForestClassifier\n",
    "\n",
    "grid = {\n",
    "    'tfidfvectorizer__min_df': MIN_DOCUMENT_FREQUENCY,\n",
    "    'tfidfvectorizer__ngram_range': NGRAM_RANGE,\n",
    "    'tfidfvectorizer__tokenizer': [LemmaTokenizer()],\n",
    "    'selectkbest__k': [500],\n",
    "    'selectkbest__score_func': [chi2],\n",
    "    'randomforestclassifier__max_depth': [8],\n",
    "    'randomforestclassifier__n_estimators': [100]\n",
    "    }\n",
    "\n",
    "no_balance.append(0.3825407433524941)"
   ]
  },
  {
   "cell_type": "code",
   "execution_count": 60,
   "id": "2dd2adc9",
   "metadata": {},
   "outputs": [
    {
     "data": {
      "text/plain": [
       "0.40605178275910375"
      ]
     },
     "execution_count": 60,
     "metadata": {},
     "output_type": "execute_result"
    }
   ],
   "source": [
    "ros_pipe = make_pipeline(TfidfVectorizer(), \n",
    "                        RandomOverSampler(random_state=1),\n",
    "                        SelectKBest(),\n",
    "                        RandomForestClassifier())\n",
    "\n",
    "grid_search = GridSearchCV(ros_pipe, param_grid=grid, scoring=scoring, refit=\"f1_micro\", n_jobs=-1, cv=skf)\n",
    "rf_ros_model = grid_search.fit(X=X, y=y)\n",
    "\n",
    "rf_ros_model.best_score_"
   ]
  },
  {
   "cell_type": "code",
   "execution_count": 61,
   "id": "ab36223c",
   "metadata": {},
   "outputs": [
    {
     "data": {
      "text/plain": [
       "0.37357461185783514"
      ]
     },
     "execution_count": 61,
     "metadata": {},
     "output_type": "execute_result"
    }
   ],
   "source": [
    "smote_pipe = make_pipeline(TfidfVectorizer(), \n",
    "                        SMOTE(sampling_strategy='minority', k_neighbors=5, random_state=1),\n",
    "                        SelectKBest(),\n",
    "                        RandomForestClassifier())\n",
    "\n",
    "grid_search = GridSearchCV(smote_pipe, param_grid=grid, scoring=scoring, refit=\"f1_micro\", n_jobs=-1, cv=skf)\n",
    "rf_smote_model = grid_search.fit(X=X, y=y)\n",
    "\n",
    "rf_smote_model.best_score_"
   ]
  },
  {
   "cell_type": "code",
   "execution_count": 62,
   "id": "64138303",
   "metadata": {},
   "outputs": [
    {
     "data": {
      "text/plain": [
       "0.4140928430834835"
      ]
     },
     "execution_count": 62,
     "metadata": {},
     "output_type": "execute_result"
    }
   ],
   "source": [
    "rus_pipe = make_pipeline(TfidfVectorizer(), \n",
    "                        RandomUnderSampler(random_state=1),\n",
    "                        SelectKBest(),\n",
    "                        RandomForestClassifier())\n",
    "\n",
    "grid_search = GridSearchCV(rus_pipe, param_grid=grid, scoring=scoring, refit=\"f1_micro\", n_jobs=-1, cv=skf)\n",
    "rf_rus_model = grid_search.fit(X=X, y=y)\n",
    "\n",
    "rf_rus_model.best_score_"
   ]
  },
  {
   "cell_type": "code",
   "execution_count": 63,
   "id": "92abb083",
   "metadata": {},
   "outputs": [],
   "source": [
    "oversampling.append(rf_ros_model.best_score_)\n",
    "sm.append(rf_smote_model.best_score_)\n",
    "undersampling.append(rf_rus_model.best_score_)"
   ]
  },
  {
   "cell_type": "markdown",
   "id": "ce0e37b5",
   "metadata": {},
   "source": [
    "## KNeighborsClassifier\n",
    "Best estimator selected is that with all the features and the default f_classif score function with a best score of 0.44734848269001104."
   ]
  },
  {
   "cell_type": "code",
   "execution_count": 64,
   "id": "4989986c",
   "metadata": {},
   "outputs": [],
   "source": [
    "from sklearn.neighbors import KNeighborsClassifier\n",
    "\n",
    "grid = {\n",
    "    'tfidfvectorizer__min_df': MIN_DOCUMENT_FREQUENCY,\n",
    "    'tfidfvectorizer__ngram_range': NGRAM_RANGE,\n",
    "    'tfidfvectorizer__tokenizer': [LemmaTokenizer()]\n",
    "}\n",
    "\n",
    "no_balance.append(0.44734848269001104)"
   ]
  },
  {
   "cell_type": "code",
   "execution_count": 65,
   "id": "d2fb15f9",
   "metadata": {},
   "outputs": [
    {
     "data": {
      "text/plain": [
       "0.34762729923333163"
      ]
     },
     "execution_count": 65,
     "metadata": {},
     "output_type": "execute_result"
    }
   ],
   "source": [
    "ros_pipe = make_pipeline(TfidfVectorizer(), \n",
    "                        RandomOverSampler(random_state=1),\n",
    "                        KNeighborsClassifier())\n",
    "\n",
    "grid_search = GridSearchCV(ros_pipe, param_grid=grid, scoring=scoring, refit=\"f1_micro\", n_jobs=-1, cv=skf)\n",
    "knc_ros_model = grid_search.fit(X=X, y=y)\n",
    "\n",
    "knc_ros_model.best_score_"
   ]
  },
  {
   "cell_type": "code",
   "execution_count": 66,
   "id": "7d731128",
   "metadata": {},
   "outputs": [
    {
     "data": {
      "text/plain": [
       "0.34726082274979636"
      ]
     },
     "execution_count": 66,
     "metadata": {},
     "output_type": "execute_result"
    }
   ],
   "source": [
    "smote_pipe = make_pipeline(TfidfVectorizer(), \n",
    "                        SMOTE(sampling_strategy='minority', k_neighbors=5, random_state=1),\n",
    "                        KNeighborsClassifier())\n",
    "\n",
    "grid_search = GridSearchCV(ros_pipe, param_grid=grid, scoring=scoring, refit=\"f1_micro\", n_jobs=-1, cv=skf)\n",
    "knc_smote_model = grid_search.fit(X=X, y=y)\n",
    "\n",
    "knc_smote_model.best_score_"
   ]
  },
  {
   "cell_type": "code",
   "execution_count": 67,
   "id": "6d8610b1",
   "metadata": {},
   "outputs": [
    {
     "data": {
      "text/plain": [
       "0.34728632295992384"
      ]
     },
     "execution_count": 67,
     "metadata": {},
     "output_type": "execute_result"
    }
   ],
   "source": [
    "rus_pipe = make_pipeline(TfidfVectorizer(), \n",
    "                        RandomUnderSampler(random_state=1),\n",
    "                        KNeighborsClassifier())\n",
    "\n",
    "grid_search = GridSearchCV(ros_pipe, param_grid=grid, scoring=scoring, refit=\"f1_micro\", n_jobs=-1, cv=skf)\n",
    "knc_rus_model = grid_search.fit(X=X, y=y)\n",
    "\n",
    "knc_rus_model.best_score_"
   ]
  },
  {
   "cell_type": "code",
   "execution_count": 68,
   "id": "a70ca66d",
   "metadata": {},
   "outputs": [],
   "source": [
    "oversampling.append(knc_ros_model.best_score_)\n",
    "sm.append(knc_smote_model.best_score_)\n",
    "undersampling.append(knc_rus_model.best_score_)"
   ]
  },
  {
   "cell_type": "markdown",
   "id": "9f55c250",
   "metadata": {},
   "source": [
    "## BernoulliNB Classifier\n",
    "Best estimator selected is that with 10000 features and the f_classif(default) score function with a best score of 0.5823505424136874."
   ]
  },
  {
   "cell_type": "code",
   "execution_count": 69,
   "id": "439f8672",
   "metadata": {},
   "outputs": [],
   "source": [
    "from sklearn.naive_bayes import BernoulliNB\n",
    "\n",
    "grid = {\n",
    "    'tfidfvectorizer__min_df': MIN_DOCUMENT_FREQUENCY,\n",
    "    'tfidfvectorizer__ngram_range': NGRAM_RANGE,\n",
    "    'tfidfvectorizer__tokenizer': [LemmaTokenizer()],\n",
    "    'selectkbest__k': [10000]\n",
    "    }\n",
    "\n",
    "no_balance.append(0.5823505424136874)"
   ]
  },
  {
   "cell_type": "code",
   "execution_count": 70,
   "id": "64a68a6a",
   "metadata": {},
   "outputs": [
    {
     "data": {
      "text/plain": [
       "0.5794269397610958"
      ]
     },
     "execution_count": 70,
     "metadata": {},
     "output_type": "execute_result"
    }
   ],
   "source": [
    "ros_pipe = make_pipeline(TfidfVectorizer(), \n",
    "                        RandomOverSampler(random_state=1),\n",
    "                        SelectKBest(),\n",
    "                        BernoulliNB())\n",
    "\n",
    "grid_search = GridSearchCV(ros_pipe, param_grid=grid, scoring=scoring, refit=\"f1_micro\", n_jobs=-1, cv=skf)\n",
    "bnc_ros_model = grid_search.fit(X=X, y=y)\n",
    "\n",
    "bnc_ros_model.best_score_"
   ]
  },
  {
   "cell_type": "code",
   "execution_count": 71,
   "id": "d00f6345",
   "metadata": {},
   "outputs": [
    {
     "data": {
      "text/plain": [
       "0.577697418875379"
      ]
     },
     "execution_count": 71,
     "metadata": {},
     "output_type": "execute_result"
    }
   ],
   "source": [
    "smote_pipe = make_pipeline(TfidfVectorizer(), \n",
    "                        SMOTE(sampling_strategy='minority', k_neighbors=5, random_state=1),\n",
    "                        SelectKBest(),\n",
    "                        BernoulliNB())\n",
    "\n",
    "grid_search = GridSearchCV(ros_pipe, param_grid=grid, scoring=scoring, refit=\"f1_micro\", n_jobs=-1, cv=skf)\n",
    "bnc_smote_model = grid_search.fit(X=X, y=y)\n",
    "\n",
    "bnc_smote_model.best_score_"
   ]
  },
  {
   "cell_type": "code",
   "execution_count": 72,
   "id": "d563b8eb",
   "metadata": {},
   "outputs": [
    {
     "data": {
      "text/plain": [
       "0.5798900036327115"
      ]
     },
     "execution_count": 72,
     "metadata": {},
     "output_type": "execute_result"
    }
   ],
   "source": [
    "rus_pipe = make_pipeline(TfidfVectorizer(), \n",
    "                        RandomUnderSampler(random_state=1),\n",
    "                        SelectKBest(),\n",
    "                        BernoulliNB())\n",
    "\n",
    "grid_search = GridSearchCV(ros_pipe, param_grid=grid, scoring=scoring, refit=\"f1_micro\", n_jobs=-1, cv=skf)\n",
    "bnc_rus_model = grid_search.fit(X=X, y=y)\n",
    "\n",
    "bnc_rus_model.best_score_"
   ]
  },
  {
   "cell_type": "code",
   "execution_count": 73,
   "id": "a04fb2bf",
   "metadata": {},
   "outputs": [],
   "source": [
    "oversampling.append(bnc_ros_model.best_score_)\n",
    "sm.append(bnc_smote_model.best_score_)\n",
    "undersampling.append(bnc_rus_model.best_score_)"
   ]
  },
  {
   "cell_type": "code",
   "execution_count": 74,
   "id": "4e55ca9a",
   "metadata": {},
   "outputs": [
    {
     "data": {
      "text/html": [
       "<div>\n",
       "<style scoped>\n",
       "    .dataframe tbody tr th:only-of-type {\n",
       "        vertical-align: middle;\n",
       "    }\n",
       "\n",
       "    .dataframe tbody tr th {\n",
       "        vertical-align: top;\n",
       "    }\n",
       "\n",
       "    .dataframe thead th {\n",
       "        text-align: right;\n",
       "    }\n",
       "</style>\n",
       "<table border=\"1\" class=\"dataframe\">\n",
       "  <thead>\n",
       "    <tr style=\"text-align: right;\">\n",
       "      <th></th>\n",
       "      <th>Oversampling</th>\n",
       "      <th>Smote</th>\n",
       "      <th>Undersampling</th>\n",
       "      <th>No balance</th>\n",
       "    </tr>\n",
       "  </thead>\n",
       "  <tbody>\n",
       "    <tr>\n",
       "      <th>LinearSVC</th>\n",
       "      <td>0.570753</td>\n",
       "      <td>0.589806</td>\n",
       "      <td>0.521367</td>\n",
       "      <td>0.595142</td>\n",
       "    </tr>\n",
       "    <tr>\n",
       "      <th>MultinomialNB</th>\n",
       "      <td>0.559619</td>\n",
       "      <td>0.496394</td>\n",
       "      <td>0.527751</td>\n",
       "      <td>0.480606</td>\n",
       "    </tr>\n",
       "    <tr>\n",
       "      <th>LogisticRegression</th>\n",
       "      <td>0.595044</td>\n",
       "      <td>0.592462</td>\n",
       "      <td>0.595044</td>\n",
       "      <td>0.592438</td>\n",
       "    </tr>\n",
       "    <tr>\n",
       "      <th>RandomForest</th>\n",
       "      <td>0.406052</td>\n",
       "      <td>0.373575</td>\n",
       "      <td>0.414093</td>\n",
       "      <td>0.382541</td>\n",
       "    </tr>\n",
       "    <tr>\n",
       "      <th>KNeighbors</th>\n",
       "      <td>0.347627</td>\n",
       "      <td>0.347261</td>\n",
       "      <td>0.347286</td>\n",
       "      <td>0.447348</td>\n",
       "    </tr>\n",
       "    <tr>\n",
       "      <th>BernoulliNB</th>\n",
       "      <td>0.579427</td>\n",
       "      <td>0.577697</td>\n",
       "      <td>0.579890</td>\n",
       "      <td>0.582351</td>\n",
       "    </tr>\n",
       "  </tbody>\n",
       "</table>\n",
       "</div>"
      ],
      "text/plain": [
       "                    Oversampling     Smote  Undersampling  No balance\n",
       "LinearSVC               0.570753  0.589806       0.521367    0.595142\n",
       "MultinomialNB           0.559619  0.496394       0.527751    0.480606\n",
       "LogisticRegression      0.595044  0.592462       0.595044    0.592438\n",
       "RandomForest            0.406052  0.373575       0.414093    0.382541\n",
       "KNeighbors              0.347627  0.347261       0.347286    0.447348\n",
       "BernoulliNB             0.579427  0.577697       0.579890    0.582351"
      ]
     },
     "execution_count": 74,
     "metadata": {},
     "output_type": "execute_result"
    }
   ],
   "source": [
    "methods=['Oversampling','Smote', 'Undersampling', 'No balance']\n",
    "models=['LinearSVC',  'MultinomialNB', 'LogisticRegression', 'RandomForest', 'KNeighbors', 'BernoulliNB']\n",
    "d = {'Oversampling': oversampling, 'Smote': sm, 'Undersampling': undersampling, 'No balance': no_balance}\n",
    "df = pd.DataFrame(d, columns=methods, index=models)\n",
    "\n",
    "df"
   ]
  },
  {
   "cell_type": "code",
   "execution_count": null,
   "id": "d0526ce1",
   "metadata": {},
   "outputs": [],
   "source": []
  }
 ],
 "metadata": {
  "kernelspec": {
   "display_name": "Python 3 (ipykernel)",
   "language": "python",
   "name": "python3"
  },
  "language_info": {
   "codemirror_mode": {
    "name": "ipython",
    "version": 3
   },
   "file_extension": ".py",
   "mimetype": "text/x-python",
   "name": "python",
   "nbconvert_exporter": "python",
   "pygments_lexer": "ipython3",
   "version": "3.8.3"
  }
 },
 "nbformat": 4,
 "nbformat_minor": 5
}
